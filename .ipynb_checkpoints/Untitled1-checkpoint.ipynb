{
 "cells": [
  {
   "cell_type": "code",
   "execution_count": 1,
   "metadata": {
    "collapsed": true
   },
   "outputs": [],
   "source": [
    "import scipy.io as spio\n",
    "\n",
    "fileN = '/Users/myitayew/cos424/voxResources/data/blues/blues.00000.mat'"
   ]
  },
  {
   "cell_type": "code",
   "execution_count": 2,
   "metadata": {
    "collapsed": true
   },
   "outputs": [],
   "source": [
    "X = spio.loadmat(fileN)"
   ]
  },
  {
   "cell_type": "code",
   "execution_count": 3,
   "metadata": {
    "collapsed": false
   },
   "outputs": [
    {
     "data": {
      "text/plain": [
       "array([[array([[8]], dtype=uint8)]], dtype=object)"
      ]
     },
     "execution_count": 3,
     "metadata": {},
     "output_type": "execute_result"
    }
   ],
   "source": [
    "X['DAT']['key']"
   ]
  },
  {
   "cell_type": "code",
   "execution_count": 12,
   "metadata": {
    "collapsed": false
   },
   "outputs": [
    {
     "data": {
      "text/plain": [
       "0.38"
      ]
     },
     "execution_count": 12,
     "metadata": {},
     "output_type": "execute_result"
    }
   ],
   "source": [
    "import numpy as np\n",
    "import random as random\n",
    "import scipy.stats as stats\n",
    "from sklearn.ensemble import RandomForestClassifier\n",
    "from sklearn.neighbors import KNeighborsClassifier\n",
    "from sklearn.metrics import zero_one_loss\n",
    "FVs = '/Users/myitayew/cos424/FV.mat'\n",
    "LBs = '/Users/myitayew/cos424/LB.mat'\n",
    "mfcc = spio.loadmat(FVs)['FV']\n",
    "labels = spio.loadmat(LBs)['LB'][0]\n",
    "N = mfcc.shape[1]\n",
    "\n",
    "maxLearners = 100 \n",
    "maxDepth = 5\n",
    "TEidx = np.array(random.sample(range(0,N), int(N/10)))\n",
    "X_TE = mfcc[:,TEidx]\n",
    "X_TR = mfcc[:,[i for i in range(0,N) if i not in TEidx]]\n",
    "Y_TE = labels[TEidx]\n",
    "Y_TR = labels[[i for i in range(0,N) if i not in TEidx]]\n",
    "rf = RandomForestClassifier(n_estimators = maxLearners, max_depth = maxDepth, warm_start = False)\n",
    "rf.fit(X_TR.T,Y_TR) # NOTE DATA ORIENTATION\n",
    "predictionsRF = rf.predict(X_TE.T)\n",
    "errorRF = zero_one_loss(predictionsRF, Y_TE)\n",
    "errorRF"
   ]
  },
  {
   "cell_type": "code",
   "execution_count": 13,
   "metadata": {
    "collapsed": false
   },
   "outputs": [
    {
     "data": {
      "text/plain": [
       "0.34999999999999998"
      ]
     },
     "execution_count": 13,
     "metadata": {},
     "output_type": "execute_result"
    }
   ],
   "source": [
    "k = 10\n",
    "knn = KNeighborsClassifier(n_neighbors=k)\n",
    "knn.fit(X_TR.T,Y_TR)\n",
    "predictionsKNN = knn.predict(X_TE.T)\n",
    "errorKNN = zero_one_loss(predictionsKNN, Y_TE)\n",
    "errorKNN"
   ]
  },
  {
   "cell_type": "code",
   "execution_count": 14,
   "metadata": {
    "collapsed": false
   },
   "outputs": [
    {
     "name": "stdout",
     "output_type": "stream",
     "text": [
      "0.46\n",
      "0.48\n",
      "0.38\n",
      "0.5\n",
      "0.58\n",
      "0.45\n",
      "0.44\n",
      "0.39\n",
      "0.57\n",
      "0.41\n",
      "Average error: 46.60%\n"
     ]
    }
   ],
   "source": [
    "from sklearn.cross_validation import StratifiedKFold\n",
    "k = 10\n",
    "skf = StratifiedKFold(labels,n_folds=k)\n",
    "averageError = 0.0\n",
    "for train_index, test_index in skf:\n",
    "    X_train, X_test = mfcc[:,train_index], mfcc[:,test_index]\n",
    "    y_train, y_test = labels[train_index], labels[test_index]\n",
    "    rf = RandomForestClassifier(n_estimators=maxLearners, max_depth = maxDepth, warm_start = False)\n",
    "    rf.fit(X_train.T,y_train)\n",
    "    y_pred = rf.predict(X_test.T)\n",
    "    error = zero_one_loss(y_pred,y_test)\n",
    "    print error\n",
    "    averageError += (1./k) * error\n",
    "print \"Average error: %4.2f%s\" % (100 * averageError,'%')"
   ]
  },
  {
   "cell_type": "code",
   "execution_count": 15,
   "metadata": {
    "collapsed": true
   },
   "outputs": [],
   "source": [
    "from sklearn import svm as SVC"
   ]
  },
  {
   "cell_type": "code",
   "execution_count": 38,
   "metadata": {
    "collapsed": false
   },
   "outputs": [
    {
     "name": "stdout",
     "output_type": "stream",
     "text": [
      "0.4\n",
      "0.41\n",
      "0.36\n",
      "0.46\n",
      "0.46\n",
      "0.51\n",
      "0.52\n",
      "0.45\n",
      "0.49\n",
      "0.39\n",
      "Average error: 44.50%\n"
     ]
    }
   ],
   "source": [
    "from sklearn.svm import SVC\n",
    "from sklearn.cross_validation import StratifiedKFold\n",
    "k = 10\n",
    "skf = StratifiedKFold(labels,n_folds=k)\n",
    "averageError = 0.0\n",
    "for train_index, test_index in skf:\n",
    "    X_train, X_test = mfcc[:,train_index], mfcc[:,test_index]\n",
    "    y_train, y_test = labels[train_index], labels[test_index]\n",
    "    clf = SVC(kernel='rbf',degree=7,gamma=(1.0/100000.0),shrinking=True, decision_function_shape='ovr')\n",
    "    clf.fit(X_train.T,y_train)\n",
    "    y_pred = clf.predict(X_test.T)\n",
    "    error = zero_one_loss(y_pred,y_test)\n",
    "    print error\n",
    "    averageError += (1./k) * error\n",
    "print \"Average error: %4.2f%s\" % (100 * averageError,'%')"
   ]
  },
  {
   "cell_type": "code",
   "execution_count": 41,
   "metadata": {
    "collapsed": false
   },
   "outputs": [
    {
     "name": "stdout",
     "output_type": "stream",
     "text": [
      "0.41\n",
      "0.37\n",
      "0.31\n",
      "0.38\n",
      "0.55\n",
      "0.44\n",
      "0.41\n",
      "0.36\n",
      "0.54\n",
      "0.4\n",
      "Average error: 41.70%\n"
     ]
    }
   ],
   "source": [
    "from sklearn.ensemble import AdaBoostClassifier\n",
    "from sklearn.cross_validation import StratifiedKFold\n",
    "k = 10\n",
    "skf = StratifiedKFold(labels,n_folds=k)\n",
    "averageError = 0.0\n",
    "rf = RandomForestClassifier(n_estimators=maxLearners, max_depth = maxDepth, warm_start = False)\n",
    "for train_index, test_index in skf:\n",
    "    X_train, X_test = mfcc[:,train_index], mfcc[:,test_index]\n",
    "    y_train, y_test = labels[train_index], labels[test_index]\n",
    "    ab = AdaBoostClassifier(base_estimator=rf)\n",
    "    ab.fit(X_train.T,y_train)\n",
    "    y_pred = ab.predict(X_test.T)\n",
    "    error = zero_one_loss(y_pred,y_test)\n",
    "    print error\n",
    "    averageError += (1./k) * error\n",
    "print \"Average error: %4.2f%s\" % (100 * averageError,'%')"
   ]
  },
  {
   "cell_type": "code",
   "execution_count": 42,
   "metadata": {
    "collapsed": false
   },
   "outputs": [
    {
     "name": "stdout",
     "output_type": "stream",
     "text": [
      "0.83\n",
      "0.83\n",
      "0.87\n",
      "0.73\n",
      "0.72\n",
      "0.85\n",
      "0.75\n",
      "0.76\n",
      "0.79\n",
      "0.83\n",
      "Average error: 79.60%\n"
     ]
    },
    {
     "name": "stderr",
     "output_type": "stream",
     "text": [
      "/Users/myitayew/anaconda/lib/python2.7/site-packages/sklearn/discriminant_analysis.py:387: UserWarning: Variables are collinear.\n",
      "  warnings.warn(\"Variables are collinear.\")\n"
     ]
    }
   ],
   "source": [
    "from sklearn.discriminant_analysis import LinearDiscriminantAnalysis\n",
    "from sklearn.cross_validation import StratifiedKFold\n",
    "k = 10\n",
    "skf = StratifiedKFold(labels,n_folds=k)\n",
    "averageError = 0.0\n",
    "for train_index, test_index in skf:\n",
    "    X_train, X_test = mfcc[:,train_index], mfcc[:,test_index]\n",
    "    y_train, y_test = labels[train_index], labels[test_index]\n",
    "    clf = LinearDiscriminantAnalysis()\n",
    "    clf.fit(X_train.T,y_train)\n",
    "    y_pred = clf.predict(X_test.T)\n",
    "    error = zero_one_loss(y_pred,y_test)\n",
    "    print error\n",
    "    averageError += (1./k) * error\n",
    "print \"Average error: %4.2f%s\" % (100 * averageError,'%')"
   ]
  },
  {
   "cell_type": "code",
   "execution_count": 1,
   "metadata": {
    "collapsed": false
   },
   "outputs": [
    {
     "ename": "NameError",
     "evalue": "name 'labels' is not defined",
     "output_type": "error",
     "traceback": [
      "\u001b[0;31m---------------------------------------------------------------------------\u001b[0m",
      "\u001b[0;31mNameError\u001b[0m                                 Traceback (most recent call last)",
      "\u001b[0;32m<ipython-input-1-8bba4308dab5>\u001b[0m in \u001b[0;36m<module>\u001b[0;34m()\u001b[0m\n\u001b[1;32m      2\u001b[0m \u001b[0;32mfrom\u001b[0m \u001b[0msklearn\u001b[0m\u001b[0;34m.\u001b[0m\u001b[0mcross_validation\u001b[0m \u001b[0;32mimport\u001b[0m \u001b[0mStratifiedKFold\u001b[0m\u001b[0;34m\u001b[0m\u001b[0m\n\u001b[1;32m      3\u001b[0m \u001b[0mk\u001b[0m \u001b[0;34m=\u001b[0m \u001b[0;36m10\u001b[0m\u001b[0;34m\u001b[0m\u001b[0m\n\u001b[0;32m----> 4\u001b[0;31m \u001b[0mskf\u001b[0m \u001b[0;34m=\u001b[0m \u001b[0mStratifiedKFold\u001b[0m\u001b[0;34m(\u001b[0m\u001b[0mlabels\u001b[0m\u001b[0;34m,\u001b[0m\u001b[0mn_folds\u001b[0m\u001b[0;34m=\u001b[0m\u001b[0mk\u001b[0m\u001b[0;34m)\u001b[0m\u001b[0;34m\u001b[0m\u001b[0m\n\u001b[0m\u001b[1;32m      5\u001b[0m \u001b[0maverageError\u001b[0m \u001b[0;34m=\u001b[0m \u001b[0;36m0.0\u001b[0m\u001b[0;34m\u001b[0m\u001b[0m\n\u001b[1;32m      6\u001b[0m \u001b[0;32mfor\u001b[0m \u001b[0mtrain_index\u001b[0m\u001b[0;34m,\u001b[0m \u001b[0mtest_index\u001b[0m \u001b[0;32min\u001b[0m \u001b[0mskf\u001b[0m\u001b[0;34m:\u001b[0m\u001b[0;34m\u001b[0m\u001b[0m\n",
      "\u001b[0;31mNameError\u001b[0m: name 'labels' is not defined"
     ]
    }
   ],
   "source": [
    "from sklearn.naive_bayes import GaussianNB\n",
    "from sklearn.cross_validation import StratifiedKFold\n",
    "k = 10\n",
    "skf = StratifiedKFold(labels,n_folds=k)\n",
    "averageError = 0.0\n",
    "for train_index, test_index in skf:\n",
    "    X_train, X_test = mfcc[:,train_index], mfcc[:,test_index]\n",
    "    y_train, y_test = labels[train_index], labels[test_index]\n",
    "    clf = GaussianNB()\n",
    "    clf.fit(X_train.T,y_train)\n",
    "    y_pred = clf.predict(X_test.T)\n",
    "    error = zero_one_loss(y_pred,y_test)\n",
    "    print error\n",
    "    averageError += (1./k) * error\n",
    "print \"Average error: %4.2f%s\" % (100 * averageError,'%')"
   ]
  },
  {
   "cell_type": "code",
   "execution_count": null,
   "metadata": {
    "collapsed": true
   },
   "outputs": [],
   "source": []
  }
 ],
 "metadata": {
  "kernelspec": {
   "display_name": "Python 2",
   "language": "python",
   "name": "python2"
  },
  "language_info": {
   "codemirror_mode": {
    "name": "ipython",
    "version": 2
   },
   "file_extension": ".py",
   "mimetype": "text/x-python",
   "name": "python",
   "nbconvert_exporter": "python",
   "pygments_lexer": "ipython2",
   "version": "2.7.11"
  }
 },
 "nbformat": 4,
 "nbformat_minor": 0
}
